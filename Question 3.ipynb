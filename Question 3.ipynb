{
 "cells": [
  {
   "cell_type": "code",
   "execution_count": 1,
   "metadata": {},
   "outputs": [],
   "source": [
    "import re\n",
    "def tokenize(string):\n",
    "    return re.compile('\\w+').findall(string)\n",
    "\n",
    "from collections import Counter\n",
    "\n",
    "def word_freq(string): \n",
    "    text = tokenize(string.lower())\n",
    "    c = Counter(text)           # count the words\n",
    "    d = Counter(''.join(text))  # count all letters\n",
    "    return (dict(c),dict(d))    # return a tuple of counted words and letters\n",
    "\n",
    "#data = \"\"\"As a term, data analytics predominantly refers to an assortment of applications, from basic \\nbusiness intelligence (BI), reporting and online analytical processing (OLAP) to various forms of \\nadvanced analytics. In that sense, it's similar in nature to business analytics, another umbrella \\nterm for approaches to analyzing data -- with the difference that the latter is oriented to \\nbusiness uses, while data analytics has a broader focus. The expansive view of the term isn't \\nuniversal, though: In some cases, people use data analytics specifically to mean advanced \\nanalytics, treating BI as a separate category. Data analytics initiatives can help businesses \\nincrease revenues, improve operational efficiency, optimize marketing campaigns and customer \\nservice efforts, respond more quickly to emerging market trends and gain a competitive edge \\nover rivals -- all with the ultimate goal of boosting business performance. Depending on the \\nparticular application, the data that's analyzed can consist of either historical records or new \\ninformation that has been processed for real-time analytics uses. In addition, it can come from a \\nmix of internal systems and external data sources. At a high level, data analytics methodologies \\ninclude exploratory data analysis (EDA), which aims to find patterns and relationships in data, \\nand confirmatory data analysis (CDA), which applies statistical techniques to determine whether \\nhypotheses about a data set are true or false. EDA is often compared to detective work, while \\nCDA is akin to the work of a judge or jury during a court trial -- a distinction first drawn by \\nstatistician John W. Tukey in his 1977 book Exploratory Data Analysis. Data analytics can also \\nbe separated into quantitative data analysis and qualitative data analysis. The former involves \\nanalysis of numerical data with quantifiable variables that can be compared or measured \\nstatistically. The qualitative approach is more interpretive -- it focuses on understanding the \\ncontent of non-numerical data like text, images, audio and video, including common phrases, \\nthemes and points of view.\"\"\"\n",
    "\n"
   ]
  },
  {
   "cell_type": "code",
   "execution_count": 2,
   "metadata": {},
   "outputs": [
    {
     "name": "stdout",
     "output_type": "stream",
     "text": [
      "As a term, data analytics predominantly refers to an assortment of applications, from basic \n",
      "business intelligence (BI), reporting and online analytical processing (OLAP) to various forms of \n",
      "advanced analytics. In that sense, it's similar in nature to business analytics, another umbrella \n",
      "term for approaches to analyzing data -- with the difference that the latter is oriented to \n",
      "business uses, while data analytics has a broader focus. The expansive view of the term isn't \n",
      "universal, though: In some cases, people use data analytics specifically to mean advanced \n",
      "analytics, treating BI as a separate category. Data analytics initiatives can help businesses \n",
      "increase revenues, improve operational efficiency, optimize marketing campaigns and customer \n",
      "service efforts, respond more quickly to emerging market trends and gain a competitive edge \n",
      "over rivals -- all with the ultimate goal of boosting business performance. Depending on the \n",
      "particular application, the data that's analyzed can consist of either historical records or new \n",
      "information that has been processed for real-time analytics uses. In addition, it can come from a \n",
      "mix of internal systems and external data sources. At a high level, data analytics methodologies \n",
      "include exploratory data analysis (EDA), which aims to find patterns and relationships in data, \n",
      "and confirmatory data analysis (CDA), which applies statistical techniques to determine whether \n",
      "hypotheses about a data set are true or false. EDA is often compared to detective work, while \n",
      "CDA is akin to the work of a judge or jury during a court trial -- a distinction first drawn by \n",
      "statistician John W. Tukey in his 1977 book Exploratory Data Analysis. Data analytics can also \n",
      "be separated into quantitative data analysis and qualitative data analysis. The former involves \n",
      "analysis of numerical data with quantifiable variables that can be compared or measured \n",
      "statistically. The qualitative approach is more interpretive -- it focuses on understanding the \n",
      "content of non-numerical data like text, images, audio and video, including common phrases, \n",
      "themes and points of view.\n"
     ]
    }
   ],
   "source": [
    "data = \"\"\"As a term, data analytics predominantly refers to an assortment of applications, from basic \\nbusiness intelligence (BI), reporting and online analytical processing (OLAP) to various forms of \\nadvanced analytics. In that sense, it's similar in nature to business analytics, another umbrella \\nterm for approaches to analyzing data -- with the difference that the latter is oriented to \\nbusiness uses, while data analytics has a broader focus. The expansive view of the term isn't \\nuniversal, though: In some cases, people use data analytics specifically to mean advanced \\nanalytics, treating BI as a separate category. Data analytics initiatives can help businesses \\nincrease revenues, improve operational efficiency, optimize marketing campaigns and customer \\nservice efforts, respond more quickly to emerging market trends and gain a competitive edge \\nover rivals -- all with the ultimate goal of boosting business performance. Depending on the \\nparticular application, the data that's analyzed can consist of either historical records or new \\ninformation that has been processed for real-time analytics uses. In addition, it can come from a \\nmix of internal systems and external data sources. At a high level, data analytics methodologies \\ninclude exploratory data analysis (EDA), which aims to find patterns and relationships in data, \\nand confirmatory data analysis (CDA), which applies statistical techniques to determine whether \\nhypotheses about a data set are true or false. EDA is often compared to detective work, while \\nCDA is akin to the work of a judge or jury during a court trial -- a distinction first drawn by \\nstatistician John W. Tukey in his 1977 book Exploratory Data Analysis. Data analytics can also \\nbe separated into quantitative data analysis and qualitative data analysis. The former involves \\nanalysis of numerical data with quantifiable variables that can be compared or measured \\nstatistically. The qualitative approach is more interpretive -- it focuses on understanding the \\ncontent of non-numerical data like text, images, audio and video, including common phrases, \\nthemes and points of view.\"\"\"\n",
    "print(data)"
   ]
  },
  {
   "cell_type": "code",
   "execution_count": 3,
   "metadata": {},
   "outputs": [],
   "source": [
    "words, letters = word_freq(data) # count and get dicts with counts\n",
    "\n",
    "sumWords = sum(words.values())       # sum total words\n",
    "sumLetters = sum(letters.values())   # sum total letters"
   ]
  },
  {
   "cell_type": "code",
   "execution_count": 4,
   "metadata": {},
   "outputs": [],
   "source": [
    "#print(data)"
   ]
  },
  {
   "cell_type": "code",
   "execution_count": 5,
   "metadata": {},
   "outputs": [
    {
     "name": "stdout",
     "output_type": "stream",
     "text": [
      "as a term, data analytics predominantly refers to an assortment of applications, from basic \n",
      "business intelligence (bi), reporting and online analytical processing (olap) to various forms of \n",
      "advanced analytics. in that sense, it's similar in nature to business analytics, another umbrella \n",
      "term for approaches to analyzing data -- with the difference that the latter is oriented to \n",
      "business uses, while data analytics has a broader focus. the expansive view of the term isn't \n",
      "universal, though: in some cases, people use data analytics specifically to mean advanced \n",
      "analytics, treating bi as a separate category. data analytics initiatives can help businesses \n",
      "increase revenues, improve operational efficiency, optimize marketing campaigns and customer \n",
      "service efforts, respond more quickly to emerging market trends and gain a competitive edge \n",
      "over rivals -- all with the ultimate goal of boosting business performance. depending on the \n",
      "particular application, the data that's analyzed can consist of either historical records or new \n",
      "information that has been processed for real-time analytics uses. in addition, it can come from a \n",
      "mix of internal systems and external data sources. at a high level, data analytics methodologies \n",
      "include exploratory data analysis (eda), which aims to find patterns and relationships in data, \n",
      "and confirmatory data analysis (cda), which applies statistical techniques to determine whether \n",
      "hypotheses about a data set are true or false. eda is often compared to detective work, while \n",
      "cda is akin to the work of a judge or jury during a court trial -- a distinction first drawn by \n",
      "statistician john w. tukey in his 1977 book exploratory data analysis. data analytics can also \n",
      "be separated into quantitative data analysis and qualitative data analysis. the former involves \n",
      "analysis of numerical data with quantifiable variables that can be compared or measured \n",
      "statistically. the qualitative approach is more interpretive -- it focuses on understanding the \n",
      "content of non-numerical data like text, images, audio and video, including common phrases, \n",
      "themes and points of view.\n"
     ]
    }
   ],
   "source": [
    "# change all to lower case\n",
    "\n",
    "data = data.lower()\n",
    "print(data)"
   ]
  },
  {
   "cell_type": "code",
   "execution_count": 6,
   "metadata": {},
   "outputs": [
    {
     "name": "stdout",
     "output_type": "stream",
     "text": [
      "23\n"
     ]
    }
   ],
   "source": [
    "# Since the probability requires per line, split the line to get number of line for calculation later\n",
    "\n",
    "line_par = data.splitlines()\n",
    "print(len(line_par))"
   ]
  },
  {
   "cell_type": "code",
   "execution_count": 7,
   "metadata": {},
   "outputs": [
    {
     "name": "stdout",
     "output_type": "stream",
     "text": [
      "0.782608695652174\n"
     ]
    }
   ],
   "source": [
    "# for w in words:\n",
    "#     print(\"Probability of '{}': {}\".format(w,words[w]/len(line_num)))\n",
    "\n",
    "\n",
    "word_data = data.count('data')\n",
    "prob_data = word_data/(len(line_par))\n",
    "\n",
    "print (prob_data)"
   ]
  },
  {
   "cell_type": "markdown",
   "metadata": {},
   "source": [
    "### The probability of the data to appear in each line is 0.78"
   ]
  },
  {
   "cell_type": "code",
   "execution_count": 8,
   "metadata": {},
   "outputs": [],
   "source": [
    "#Perform word couting through a text"
   ]
  },
  {
   "cell_type": "code",
   "execution_count": 12,
   "metadata": {},
   "outputs": [
    {
     "name": "stdin",
     "output_type": "stream",
     "text": [
      "Enter the file name: words.txt\n"
     ]
    },
    {
     "name": "stdout",
     "output_type": "stream",
     "text": [
      "Contents of file words.txt are:\n",
      "As a term, data analytics predominantly refers to an assortment of applications, from basic business \n",
      "intelligence (BI), reporting and online analytical processing (OLAP) to various forms of advanced \n",
      "analytics. In that sense, it's similar in nature to business analytics, another umbrella term for \n",
      "approaches to analyzing data -- with the difference that the latter is oriented to business uses, while \n",
      "data analytics has a broader focus. The expansive view of the term isn't universal, though: In some \n",
      "cases, people use data analytics specifically to mean advanced analytics, treating BI as a separate \n",
      "category.  Data analytics initiatives can help businesses increase revenues, improve operational \n",
      "efficiency, optimize marketing campaigns and customer service efforts, respond more quickly to \n",
      "emerging market trends and gain a competitive edge over rivals -- all with the ultimate goal of \n",
      "boosting business performance. Depending on the particular application, the data that's analyzed \n",
      "can consist of either historical records or new information that has been processed for real-time \n",
      "analytics uses. In addition, it can come from a mix of internal systems and external data sources.  At \n",
      "a high level, data analytics methodologies include exploratory data analysis (EDA), which aims to find \n",
      "patterns and relationships in data, and confirmatory data analysis (CDA), which applies statistical \n",
      "techniques to determine whether hypotheses about a data set are true or false. EDA is often \n",
      "compared to detective work, while CDA is akin to the work of a judge or jury during a court trial -- a \n",
      "distinction first drawn by statistician John W. Tukey in his 1977 book Exploratory Data Analysis.  Data \n",
      "analytics can also be separated into quantitative data analysis and qualitative data analysis. The \n",
      "former involves analysis of numerical data with quantifiable variables that can be compared or \n",
      "measured statistically. The qualitative approach is more interpretive -- it focuses on understanding \n",
      "the content of non-numerical data like text, images, audio and video, including common phrases, \n",
      "themes and points of view.\n",
      "\n",
      "\n",
      " Words in Line No: 1 are : 15\n",
      "Words in Line No: 2 are : 13\n",
      "Words in Line No: 3 are : 15\n",
      "Words in Line No: 4 are : 17\n",
      "Words in Line No: 5 are : 17\n",
      "Words in Line No: 6 are : 15\n",
      "Words in Line No: 7 are : 11\n",
      "Words in Line No: 8 are : 12\n",
      "Words in Line No: 9 are : 17\n",
      "Words in Line No: 10 are : 12\n",
      "Words in Line No: 11 are : 15\n",
      "Words in Line No: 12 are : 18\n",
      "Words in Line No: 13 are : 15\n",
      "Words in Line No: 14 are : 13\n",
      "Words in Line No: 15 are : 16\n",
      "Words in Line No: 16 are : 22\n",
      "Words in Line No: 17 are : 16\n",
      "Words in Line No: 18 are : 14\n",
      "Words in Line No: 19 are : 14\n",
      "Words in Line No: 20 are : 13\n",
      "Words in Line No: 21 are : 14\n",
      "Words in Line No: 22 are : 5\n",
      "\n",
      "\n",
      "\n",
      "Total Number of  words in this file are = 319\n"
     ]
    }
   ],
   "source": [
    "#Request for the file name\n",
    "file_name = input(\"Enter the file name:\") #inlude location if it is in a different folder\n",
    "\n",
    "file = open(file_name, \"r\")\n",
    "\n",
    "word_count = 0\n",
    "i = 0\n",
    "str1 = \"\"\n",
    "print(\"Contents of file \" + file_name + \" are:\") # Looking at the content inside the text file.\n",
    "\n",
    "# display and count number of  words in each line of text file\n",
    "for line in file:\n",
    "    i+=1\n",
    "    print(line, end='')\n",
    "    words_in_line = len(line.split())\n",
    "    str1 = str1 + \"Words in Line No: \" + str(i) + \" are : \" + str(words_in_line)+\"\\n\"\n",
    "    word_count+=words_in_line\n",
    "    \n",
    "print('\\n\\n ' + str1)    \n",
    "print('\\n\\nTotal Number of  words in this file are = ' + str(word_count))\n",
    "\n",
    "file.close()"
   ]
  },
  {
   "cell_type": "code",
   "execution_count": 13,
   "metadata": {},
   "outputs": [
    {
     "name": "stdout",
     "output_type": "stream",
     "text": [
      "data analytics\n",
      "data analytics\n",
      "data analytics\n",
      "data analytics\n",
      "data analytics\n",
      "data analytics\n",
      "analytics\n",
      "analytics\n",
      "analytics\n",
      "analytics\n",
      "analytics\n",
      "analytics\n",
      "analytics\n",
      "analytics\n",
      "analytics\n",
      "analytics\n"
     ]
    }
   ],
   "source": [
    "matches = re.finditer('(\\S+\\s+){0}(data analytics)', data)\n",
    "matches2 = re.finditer('(\\S+\\s+){0}(analytics)', data)\n",
    "\n",
    "for m in matches:\n",
    "    print(m.group())\n",
    "    \n",
    "for n in matches2:\n",
    "    print((n.group()))"
   ]
  },
  {
   "cell_type": "code",
   "execution_count": 14,
   "metadata": {},
   "outputs": [
    {
     "name": "stdout",
     "output_type": "stream",
     "text": [
      "The probability of the word analytics occurring after the word data is :  0.6\n"
     ]
    }
   ],
   "source": [
    "# The number of data analytics = 6\n",
    "# The number of analytics = 10\n",
    "\n",
    "data_analytics = 6\n",
    "analytics = 10\n",
    "\n",
    "probability = data_analytics/analytics\n",
    "print (\"The probability of the word analytics occurring after the word data is : \", probability)"
   ]
  },
  {
   "cell_type": "code",
   "execution_count": null,
   "metadata": {},
   "outputs": [],
   "source": []
  }
 ],
 "metadata": {
  "kernelspec": {
   "display_name": "Python 3",
   "language": "python",
   "name": "python3"
  },
  "language_info": {
   "codemirror_mode": {
    "name": "ipython",
    "version": 3
   },
   "file_extension": ".py",
   "mimetype": "text/x-python",
   "name": "python",
   "nbconvert_exporter": "python",
   "pygments_lexer": "ipython3",
   "version": "3.7.6"
  }
 },
 "nbformat": 4,
 "nbformat_minor": 4
}
